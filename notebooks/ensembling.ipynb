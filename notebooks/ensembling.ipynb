{
 "cells": [
  {
   "cell_type": "code",
   "execution_count": 1,
   "metadata": {},
   "outputs": [],
   "source": [
    "import sys; sys.path.append('..')\n",
    "from typing import List, Tuple\n",
    "\n",
    "import numpy as np\n",
    "import pandas as pd\n",
    "import matplotlib.pyplot as plt\n",
    "from firelab.utils.fs_utils import load_config\n",
    "\n",
    "%matplotlib inline\n",
    "\n",
    "exp_dir = '../../loss-patterns/experiments/random-squares-00003'\n",
    "logs_export_dir = '../logs_export/random-squares-00003/'\n",
    "\n",
    "val_acc_diffs = pd.read_csv(f'{logs_export_dir}/val_acc_diffs.csv', index_col=0)\n",
    "hps = pd.read_csv(f'{logs_export_dir}/hps.csv', index_col=0)\n",
    "# summaries = [load_config(f'{exp_dir}/summaries/{exp_name}.yml') for exp_name in hps.index.values]\n",
    "masks = [np.load(f'{exp_dir}/custom_data/{hpo_exp_name}/mask.npy') for hpo_exp_name in hps.index.values]\n",
    "minima_grid_train = [np.load(f'{exp_dir}/custom_data/{hpo_exp_name}/minima_grid_train.npy') for hpo_exp_name in hps.index.values]\n",
    "minima_grid_test = [np.load(f'{exp_dir}/custom_data/{hpo_exp_name}/minima_grid_test.npy') for hpo_exp_name in hps.index.values]"
   ]
  },
  {
   "cell_type": "code",
   "execution_count": 2,
   "metadata": {},
   "outputs": [],
   "source": [
    "import torch\n",
    "import torch.nn as nn\n",
    "from torchvision import transforms\n",
    "from torch.utils.data import DataLoader, Subset\n",
    "from tqdm import tqdm\n",
    "\n",
    "from src.models import MaskModel, ConvModel\n",
    "\n",
    "\n",
    "device = 'cuda:0'\n",
    "\n",
    "\n",
    "def compute_ensemble_scores(model, ensemble_idx, dataset, mask):\n",
    "    pos_idx = model.get_class_idx(1)\n",
    "    dataloader = DataLoader(dataset, batch_size=1024, shuffle=False)\n",
    "    \n",
    "    criterion = nn.CrossEntropyLoss(reduction='none')\n",
    "    losses = []\n",
    "    guessed = []\n",
    "\n",
    "    with torch.no_grad():\n",
    "        for batch in dataloader:\n",
    "            x = batch[0].to(device)\n",
    "            y = batch[1].to(device)\n",
    "            \n",
    "            preds = [model.run_from_weights(model.compute_point(i,j), x) for i, j in ensemble_idx]\n",
    "            ensemble_preds = torch.stack(preds).mean(dim=0)\n",
    "            \n",
    "            losses.extend(criterion(ensemble_preds, y).cpu().tolist())\n",
    "            guessed.extend([g for g in (ensemble_preds.argmax(dim=1) == y).cpu().tolist()])\n",
    "\n",
    "    return np.mean(losses), np.mean(guessed)\n",
    "\n",
    "\n",
    "def compute_preds(model, i, j, dataloader):    \n",
    "    w = model.compute_point(i, j)\n",
    "    preds = []\n",
    "\n",
    "    with torch.no_grad():\n",
    "        for x, _ in dataloader:\n",
    "            x = x.to(device)\n",
    "            preds.extend(model.run_from_weights(w, x).cpu().tolist())\n",
    "\n",
    "    return preds\n",
    "\n",
    "\n",
    "def compute_scores(preds, dataloader):\n",
    "    losses = []\n",
    "    criterion = nn.CrossEntropyLoss(reduction='none')\n",
    "    ys = torch.cat([y.to(device) for _,y in dataloader])\n",
    "    preds = torch.tensor(preds).to(device)\n",
    "    \n",
    "    with torch.no_grad():\n",
    "        losses = criterion(preds, ys).cpu().tolist()\n",
    "        guessed = [(p.argmax() == y).item() for p, y in zip(preds, ys)]\n",
    "            \n",
    "    return np.mean(losses), np.mean(guessed)\n",
    "\n",
    "\n",
    "def load_model(hpo_exp_name, mask):\n",
    "    checkpoint_path = f'{exp_dir}/checkpoints/{hpo_exp_name}/model-11800.pt'\n",
    "    hp = load_config(f'{exp_dir}/summaries/{hpo_exp_name}.yml').config.hp\n",
    "    model_builder = lambda: ConvModel(hp.conv_model_config).nn\n",
    "    model = MaskModel(mask, model_builder, should_center_origin=True, parametrization_type=\"up_orthogonal\")\n",
    "    model.load_state_dict(torch.load(checkpoint_path))\n",
    "    model = model.to(device)\n",
    "    \n",
    "    return model"
   ]
  },
  {
   "cell_type": "code",
   "execution_count": 127,
   "metadata": {},
   "outputs": [],
   "source": [
    "from torchvision.datasets import FashionMNIST\n",
    "\n",
    "train_dataset = FashionMNIST('../data', train=True, transform=transforms.ToTensor())\n",
    "test_dataset = FashionMNIST('../data', train=False, transform=transforms.ToTensor())\n",
    "\n",
    "# TODO: use full datasets\n",
    "train_dataset = Subset(train_dataset, list(range(1000)))\n",
    "test_dataset = Subset(test_dataset, list(range(1000)))\n",
    "\n",
    "train_dataloader = DataLoader(train_dataset, batch_size=1024, shuffle=False)\n",
    "test_dataloader = DataLoader(test_dataset, batch_size=1024, shuffle=False)"
   ]
  },
  {
   "cell_type": "code",
   "execution_count": 4,
   "metadata": {},
   "outputs": [],
   "source": [
    "def compute_ensembling_curve(hpo_exp_name:str) -> np.array:\n",
    "    i = hps.index.tolist().index(hpo_exp_name)\n",
    "    mask = masks[i]\n",
    "    model = load_model(hpo_exp_name, mask)\n",
    "    pos_idx = model.get_class_idx(1)\n",
    "    \n",
    "    test_preds = [compute_preds(model, i, j, test_dataloader) for i, j in pos_idx]\n",
    "    test_scores = [compute_scores(p, test_dataloader) for p in test_preds]\n",
    "    test_losses, test_accs = zip(*test_scores)\n",
    "    \n",
    "    # TODO: will it be the same for accuracy?\n",
    "    pos_idx = pos_idx[np.argsort(test_losses)]\n",
    "    ensemble_losses = []\n",
    "    ensemble_accs = []\n",
    "    \n",
    "    for ensemble_size in range(1, len(pos_idx) + 1):\n",
    "        ensemble_preds = torch.tensor(test_preds[:ensemble_size]).mean(dim=0)\n",
    "        loss, acc = compute_scores(ensemble_preds, test_dataloader)\n",
    "        \n",
    "        ensemble_losses.append(loss)\n",
    "        ensemble_accs.append(acc)\n",
    "        \n",
    "    return ensemble_losses, ensemble_accs"
   ]
  },
  {
   "cell_type": "code",
   "execution_count": 128,
   "metadata": {},
   "outputs": [
    {
     "name": "stderr",
     "output_type": "stream",
     "text": [
      "  0%|          | 0/135 [00:00<?, ?it/s]/home/skorokhodov/pyvenvs/loss-patterns/lib/python3.7/site-packages/ipykernel_launcher.py:51: UserWarning: To copy construct from a tensor, it is recommended to use sourceTensor.clone().detach() or sourceTensor.clone().detach().requires_grad_(True), rather than torch.tensor(sourceTensor).\n",
      "100%|██████████| 135/135 [7:49:43<00:00, 248.99s/it]  \n"
     ]
    }
   ],
   "source": [
    "all_losses = []\n",
    "all_accs = []\n",
    "\n",
    "for hpo_exp_name in tqdm(hps.index):\n",
    "    losses, accs = compute_ensembling_curve(hpo_exp_name)\n",
    "    \n",
    "    all_losses.append(losses)\n",
    "    all_accs.append(accs)"
   ]
  },
  {
   "cell_type": "code",
   "execution_count": 30,
   "metadata": {},
   "outputs": [],
   "source": [
    "def get_model_type_from_config(model_config_str):\n",
    "    if \"'use_bn': True\" in model_config_str:\n",
    "        return 'with_bn'\n",
    "    elif \"'use_skip_connection': True\" in model_config_str:\n",
    "        return 'with_skip_connection'\n",
    "    else:\n",
    "        return 'simple'\n",
    "\n",
    "hps['model_type'] = hps['conv_model_config'].apply(get_model_type_from_config)"
   ]
  },
  {
   "cell_type": "code",
   "execution_count": 129,
   "metadata": {},
   "outputs": [],
   "source": [
    "losses_dict = {h: l for h, l in  zip(hps.index, all_losses)}\n",
    "accs_dict = {h: a for h, a in  zip(hps.index, all_accs)}"
   ]
  },
  {
   "cell_type": "code",
   "execution_count": 156,
   "metadata": {},
   "outputs": [
    {
     "data": {
      "image/png": "[encoded data removed]",
      "text/plain": [
       "<Figure size 720x360 with 1 Axes>"
      ]
     },
     "metadata": {
      "needs_background": "light"
     },
     "output_type": "display_data"
    }
   ],
   "source": [
    "plt.figure(figsize=(10, 5))\n",
    "    \n",
    "for model_type, color in [('simple', 'blue'), ('with_bn', 'red'), ('with_skip_connection', 'green')]:\n",
    "    accs = [accs_dict[hps[hps.model_type == model_type].index[i]] for i in range(hps[hps.model_type == model_type].shape[0])]\n",
    "    min_len = min(len(a) for a in accs)\n",
    "    accs = np.array([a[:min_len] for a in accs])\n",
    "\n",
    "    mean = accs.mean(axis=0)\n",
    "    std = accs.std(axis=0)\n",
    "\n",
    "    #plt.fill_between(range(len(mean)), mean + std, mean - std, facecolor=color, alpha=0.1)\n",
    "    plt.plot(range(len(mean)), mean, color=color, label=model_type)\n",
    "\n",
    "plt.legend()\n",
    "plt.grid()"
   ]
  }
 ],
 "metadata": {
  "kernelspec": {
   "display_name": "Python 3",
   "language": "python",
   "name": "python3"
  },
  "language_info": {
   "codemirror_mode": {
    "name": "ipython",
    "version": 3
   },
   "file_extension": ".py",
   "mimetype": "text/x-python",
   "name": "python",
   "nbconvert_exporter": "python",
   "pygments_lexer": "ipython3",
   "version": "3.7.3"
  }
 },
 "nbformat": 4,
 "nbformat_minor": 4
}
